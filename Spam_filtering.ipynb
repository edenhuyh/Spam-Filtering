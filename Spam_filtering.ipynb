{
  "nbformat": 4,
  "nbformat_minor": 0,
  "metadata": {
    "colab": {
      "name": "Big_data_Final_10.ipynb",
      "provenance": [],
      "collapsed_sections": []
    },
    "kernelspec": {
      "name": "python3",
      "display_name": "Python 3"
    },
    "language_info": {
      "name": "python"
    }
  },
  "cells": [
    {
      "cell_type": "code",
      "execution_count": null,
      "metadata": {
        "colab": {
          "base_uri": "https://localhost:8080/"
        },
        "id": "p8RMTxHkbu9V",
        "outputId": "85acf540-609a-4efc-de2a-d577fedecea9"
      },
      "outputs": [
        {
          "output_type": "stream",
          "name": "stdout",
          "text": [
            "Mounted at /content/drive\n"
          ]
        }
      ],
      "source": [
        "#Import các thư viện \n",
        "\n",
        "import pandas as pd\n",
        "import numpy as np\n",
        "import seaborn as sns\n",
        "import time\n",
        "from sklearn.feature_extraction.text import CountVectorizer\n",
        "from sklearn.metrics import accuracy_score\n",
        "\n",
        "from google.colab import drive\n",
        "drive.mount(\"/content/drive\")"
      ]
    },
    {
      "cell_type": "code",
      "source": [
        "#Đọc dữ liệu\n",
        "df = pd.read_csv(\"/content/drive/My Drive/Data/SMSSpamCollection\", sep ='\\t',names=[\"label\", \"text\"])\n",
        "df.head()"
      ],
      "metadata": {
        "colab": {
          "base_uri": "https://localhost:8080/",
          "height": 206
        },
        "id": "OmqoxYRyddtI",
        "outputId": "8ee925b5-6c05-46ef-a770-cce50c99126d"
      },
      "execution_count": null,
      "outputs": [
        {
          "output_type": "execute_result",
          "data": {
            "text/html": [
              "\n",
              "  <div id=\"df-07316511-45a1-41e0-85ac-fe9c2e25c51d\">\n",
              "    <div class=\"colab-df-container\">\n",
              "      <div>\n",
              "<style scoped>\n",
              "    .dataframe tbody tr th:only-of-type {\n",
              "        vertical-align: middle;\n",
              "    }\n",
              "\n",
              "    .dataframe tbody tr th {\n",
              "        vertical-align: top;\n",
              "    }\n",
              "\n",
              "    .dataframe thead th {\n",
              "        text-align: right;\n",
              "    }\n",
              "</style>\n",
              "<table border=\"1\" class=\"dataframe\">\n",
              "  <thead>\n",
              "    <tr style=\"text-align: right;\">\n",
              "      <th></th>\n",
              "      <th>label</th>\n",
              "      <th>text</th>\n",
              "    </tr>\n",
              "  </thead>\n",
              "  <tbody>\n",
              "    <tr>\n",
              "      <th>0</th>\n",
              "      <td>ham</td>\n",
              "      <td>Go until jurong point, crazy.. Available only ...</td>\n",
              "    </tr>\n",
              "    <tr>\n",
              "      <th>1</th>\n",
              "      <td>ham</td>\n",
              "      <td>Ok lar... Joking wif u oni...</td>\n",
              "    </tr>\n",
              "    <tr>\n",
              "      <th>2</th>\n",
              "      <td>spam</td>\n",
              "      <td>Free entry in 2 a wkly comp to win FA Cup fina...</td>\n",
              "    </tr>\n",
              "    <tr>\n",
              "      <th>3</th>\n",
              "      <td>ham</td>\n",
              "      <td>U dun say so early hor... U c already then say...</td>\n",
              "    </tr>\n",
              "    <tr>\n",
              "      <th>4</th>\n",
              "      <td>ham</td>\n",
              "      <td>Nah I don't think he goes to usf, he lives aro...</td>\n",
              "    </tr>\n",
              "  </tbody>\n",
              "</table>\n",
              "</div>\n",
              "      <button class=\"colab-df-convert\" onclick=\"convertToInteractive('df-07316511-45a1-41e0-85ac-fe9c2e25c51d')\"\n",
              "              title=\"Convert this dataframe to an interactive table.\"\n",
              "              style=\"display:none;\">\n",
              "        \n",
              "  <svg xmlns=\"http://www.w3.org/2000/svg\" height=\"24px\"viewBox=\"0 0 24 24\"\n",
              "       width=\"24px\">\n",
              "    <path d=\"M0 0h24v24H0V0z\" fill=\"none\"/>\n",
              "    <path d=\"M18.56 5.44l.94 2.06.94-2.06 2.06-.94-2.06-.94-.94-2.06-.94 2.06-2.06.94zm-11 1L8.5 8.5l.94-2.06 2.06-.94-2.06-.94L8.5 2.5l-.94 2.06-2.06.94zm10 10l.94 2.06.94-2.06 2.06-.94-2.06-.94-.94-2.06-.94 2.06-2.06.94z\"/><path d=\"M17.41 7.96l-1.37-1.37c-.4-.4-.92-.59-1.43-.59-.52 0-1.04.2-1.43.59L10.3 9.45l-7.72 7.72c-.78.78-.78 2.05 0 2.83L4 21.41c.39.39.9.59 1.41.59.51 0 1.02-.2 1.41-.59l7.78-7.78 2.81-2.81c.8-.78.8-2.07 0-2.86zM5.41 20L4 18.59l7.72-7.72 1.47 1.35L5.41 20z\"/>\n",
              "  </svg>\n",
              "      </button>\n",
              "      \n",
              "  <style>\n",
              "    .colab-df-container {\n",
              "      display:flex;\n",
              "      flex-wrap:wrap;\n",
              "      gap: 12px;\n",
              "    }\n",
              "\n",
              "    .colab-df-convert {\n",
              "      background-color: #E8F0FE;\n",
              "      border: none;\n",
              "      border-radius: 50%;\n",
              "      cursor: pointer;\n",
              "      display: none;\n",
              "      fill: #1967D2;\n",
              "      height: 32px;\n",
              "      padding: 0 0 0 0;\n",
              "      width: 32px;\n",
              "    }\n",
              "\n",
              "    .colab-df-convert:hover {\n",
              "      background-color: #E2EBFA;\n",
              "      box-shadow: 0px 1px 2px rgba(60, 64, 67, 0.3), 0px 1px 3px 1px rgba(60, 64, 67, 0.15);\n",
              "      fill: #174EA6;\n",
              "    }\n",
              "\n",
              "    [theme=dark] .colab-df-convert {\n",
              "      background-color: #3B4455;\n",
              "      fill: #D2E3FC;\n",
              "    }\n",
              "\n",
              "    [theme=dark] .colab-df-convert:hover {\n",
              "      background-color: #434B5C;\n",
              "      box-shadow: 0px 1px 3px 1px rgba(0, 0, 0, 0.15);\n",
              "      filter: drop-shadow(0px 1px 2px rgba(0, 0, 0, 0.3));\n",
              "      fill: #FFFFFF;\n",
              "    }\n",
              "  </style>\n",
              "\n",
              "      <script>\n",
              "        const buttonEl =\n",
              "          document.querySelector('#df-07316511-45a1-41e0-85ac-fe9c2e25c51d button.colab-df-convert');\n",
              "        buttonEl.style.display =\n",
              "          google.colab.kernel.accessAllowed ? 'block' : 'none';\n",
              "\n",
              "        async function convertToInteractive(key) {\n",
              "          const element = document.querySelector('#df-07316511-45a1-41e0-85ac-fe9c2e25c51d');\n",
              "          const dataTable =\n",
              "            await google.colab.kernel.invokeFunction('convertToInteractive',\n",
              "                                                     [key], {});\n",
              "          if (!dataTable) return;\n",
              "\n",
              "          const docLinkHtml = 'Like what you see? Visit the ' +\n",
              "            '<a target=\"_blank\" href=https://colab.research.google.com/notebooks/data_table.ipynb>data table notebook</a>'\n",
              "            + ' to learn more about interactive tables.';\n",
              "          element.innerHTML = '';\n",
              "          dataTable['output_type'] = 'display_data';\n",
              "          await google.colab.output.renderOutput(dataTable, element);\n",
              "          const docLink = document.createElement('div');\n",
              "          docLink.innerHTML = docLinkHtml;\n",
              "          element.appendChild(docLink);\n",
              "        }\n",
              "      </script>\n",
              "    </div>\n",
              "  </div>\n",
              "  "
            ],
            "text/plain": [
              "  label                                               text\n",
              "0   ham  Go until jurong point, crazy.. Available only ...\n",
              "1   ham                      Ok lar... Joking wif u oni...\n",
              "2  spam  Free entry in 2 a wkly comp to win FA Cup fina...\n",
              "3   ham  U dun say so early hor... U c already then say...\n",
              "4   ham  Nah I don't think he goes to usf, he lives aro..."
            ]
          },
          "metadata": {},
          "execution_count": 2
        }
      ]
    },
    {
      "cell_type": "code",
      "source": [
        "#Shape dữ liệu\n",
        "df.shape"
      ],
      "metadata": {
        "colab": {
          "base_uri": "https://localhost:8080/"
        },
        "id": "P_mgCnTIdl9m",
        "outputId": "007f597b-ec5d-4bba-8e81-3d9a91cb7791"
      },
      "execution_count": null,
      "outputs": [
        {
          "output_type": "execute_result",
          "data": {
            "text/plain": [
              "(5572, 2)"
            ]
          },
          "metadata": {},
          "execution_count": 3
        }
      ]
    },
    {
      "cell_type": "code",
      "source": [
        "#Số các message spam và ham\n",
        "df.label.value_counts()"
      ],
      "metadata": {
        "colab": {
          "base_uri": "https://localhost:8080/"
        },
        "id": "7pr_DndsdnmQ",
        "outputId": "087ca617-1c69-4f6f-fb15-eb6191d72d3f"
      },
      "execution_count": null,
      "outputs": [
        {
          "output_type": "execute_result",
          "data": {
            "text/plain": [
              "ham     4825\n",
              "spam     747\n",
              "Name: label, dtype: int64"
            ]
          },
          "metadata": {},
          "execution_count": 4
        }
      ]
    },
    {
      "cell_type": "markdown",
      "source": [
        "# **Xử lý dữ liệu**"
      ],
      "metadata": {
        "id": "gxEYB4lugIYZ"
      }
    },
    {
      "cell_type": "code",
      "source": [
        "import nltk\n",
        "nltk.download('stopwords')\n",
        "from nltk.corpus import stopwords\n",
        "stopwords.words('english')\n",
        "import string\n",
        "from nltk.stem.porter import PorterStemmer\n",
        "ps = PorterStemmer()\n",
        "\n",
        "#Hàm xử lý ngôn ngữ \n",
        "\n",
        "def transform_text(text):\n",
        "\n",
        "    #Chuyển thành chữ không in hoa\n",
        "    text = text.lower()\n",
        "    text = nltk.wordpunct_tokenize(text)\n",
        "\n",
        "    #Bỏ các ký tự đặc biệt\n",
        "    y = []\n",
        "    for i in text:\n",
        "        if i.isalnum():\n",
        "            y.append(i)\n",
        "            \n",
        "    text = y[:]\n",
        "    y.clear()\n",
        "    \n",
        "    for i in text:\n",
        "        if i not in stopwords.words('english') and i not in string.punctuation:\n",
        "            y.append(i)       \n",
        "            \n",
        "    text = y[:]\n",
        "    y.clear()\n",
        "    \n",
        "    for i in text:\n",
        "        y.append(ps.stem(i))\n",
        "\n",
        "    return \" \".join(y)"
      ],
      "metadata": {
        "id": "laGF7Yz3NKT9",
        "colab": {
          "base_uri": "https://localhost:8080/"
        },
        "outputId": "e1ba4d70-f900-4a96-b62e-9edbb1756fe7"
      },
      "execution_count": null,
      "outputs": [
        {
          "output_type": "stream",
          "name": "stdout",
          "text": [
            "[nltk_data] Downloading package stopwords to /root/nltk_data...\n",
            "[nltk_data]   Unzipping corpora/stopwords.zip.\n"
          ]
        }
      ]
    },
    {
      "cell_type": "code",
      "source": [
        "#Apply hàm xử lý ngôn ngữ vào dataframe\n",
        "df['text'] = df['text'].apply(transform_text)\n",
        "df.head()"
      ],
      "metadata": {
        "colab": {
          "base_uri": "https://localhost:8080/",
          "height": 206
        },
        "id": "CONEI5OuNO4E",
        "outputId": "de7bf785-8bc2-43dd-bdbc-673ff4c00a6f"
      },
      "execution_count": null,
      "outputs": [
        {
          "output_type": "execute_result",
          "data": {
            "text/html": [
              "\n",
              "  <div id=\"df-0ed63d4d-0bfa-4ae5-bd9e-26a170bea3cf\">\n",
              "    <div class=\"colab-df-container\">\n",
              "      <div>\n",
              "<style scoped>\n",
              "    .dataframe tbody tr th:only-of-type {\n",
              "        vertical-align: middle;\n",
              "    }\n",
              "\n",
              "    .dataframe tbody tr th {\n",
              "        vertical-align: top;\n",
              "    }\n",
              "\n",
              "    .dataframe thead th {\n",
              "        text-align: right;\n",
              "    }\n",
              "</style>\n",
              "<table border=\"1\" class=\"dataframe\">\n",
              "  <thead>\n",
              "    <tr style=\"text-align: right;\">\n",
              "      <th></th>\n",
              "      <th>label</th>\n",
              "      <th>text</th>\n",
              "    </tr>\n",
              "  </thead>\n",
              "  <tbody>\n",
              "    <tr>\n",
              "      <th>0</th>\n",
              "      <td>ham</td>\n",
              "      <td>go jurong point crazi avail bugi n great world...</td>\n",
              "    </tr>\n",
              "    <tr>\n",
              "      <th>1</th>\n",
              "      <td>ham</td>\n",
              "      <td>ok lar joke wif u oni</td>\n",
              "    </tr>\n",
              "    <tr>\n",
              "      <th>2</th>\n",
              "      <td>spam</td>\n",
              "      <td>free entri 2 wkli comp win fa cup final tkt 21...</td>\n",
              "    </tr>\n",
              "    <tr>\n",
              "      <th>3</th>\n",
              "      <td>ham</td>\n",
              "      <td>u dun say earli hor u c alreadi say</td>\n",
              "    </tr>\n",
              "    <tr>\n",
              "      <th>4</th>\n",
              "      <td>ham</td>\n",
              "      <td>nah think goe usf live around though</td>\n",
              "    </tr>\n",
              "  </tbody>\n",
              "</table>\n",
              "</div>\n",
              "      <button class=\"colab-df-convert\" onclick=\"convertToInteractive('df-0ed63d4d-0bfa-4ae5-bd9e-26a170bea3cf')\"\n",
              "              title=\"Convert this dataframe to an interactive table.\"\n",
              "              style=\"display:none;\">\n",
              "        \n",
              "  <svg xmlns=\"http://www.w3.org/2000/svg\" height=\"24px\"viewBox=\"0 0 24 24\"\n",
              "       width=\"24px\">\n",
              "    <path d=\"M0 0h24v24H0V0z\" fill=\"none\"/>\n",
              "    <path d=\"M18.56 5.44l.94 2.06.94-2.06 2.06-.94-2.06-.94-.94-2.06-.94 2.06-2.06.94zm-11 1L8.5 8.5l.94-2.06 2.06-.94-2.06-.94L8.5 2.5l-.94 2.06-2.06.94zm10 10l.94 2.06.94-2.06 2.06-.94-2.06-.94-.94-2.06-.94 2.06-2.06.94z\"/><path d=\"M17.41 7.96l-1.37-1.37c-.4-.4-.92-.59-1.43-.59-.52 0-1.04.2-1.43.59L10.3 9.45l-7.72 7.72c-.78.78-.78 2.05 0 2.83L4 21.41c.39.39.9.59 1.41.59.51 0 1.02-.2 1.41-.59l7.78-7.78 2.81-2.81c.8-.78.8-2.07 0-2.86zM5.41 20L4 18.59l7.72-7.72 1.47 1.35L5.41 20z\"/>\n",
              "  </svg>\n",
              "      </button>\n",
              "      \n",
              "  <style>\n",
              "    .colab-df-container {\n",
              "      display:flex;\n",
              "      flex-wrap:wrap;\n",
              "      gap: 12px;\n",
              "    }\n",
              "\n",
              "    .colab-df-convert {\n",
              "      background-color: #E8F0FE;\n",
              "      border: none;\n",
              "      border-radius: 50%;\n",
              "      cursor: pointer;\n",
              "      display: none;\n",
              "      fill: #1967D2;\n",
              "      height: 32px;\n",
              "      padding: 0 0 0 0;\n",
              "      width: 32px;\n",
              "    }\n",
              "\n",
              "    .colab-df-convert:hover {\n",
              "      background-color: #E2EBFA;\n",
              "      box-shadow: 0px 1px 2px rgba(60, 64, 67, 0.3), 0px 1px 3px 1px rgba(60, 64, 67, 0.15);\n",
              "      fill: #174EA6;\n",
              "    }\n",
              "\n",
              "    [theme=dark] .colab-df-convert {\n",
              "      background-color: #3B4455;\n",
              "      fill: #D2E3FC;\n",
              "    }\n",
              "\n",
              "    [theme=dark] .colab-df-convert:hover {\n",
              "      background-color: #434B5C;\n",
              "      box-shadow: 0px 1px 3px 1px rgba(0, 0, 0, 0.15);\n",
              "      filter: drop-shadow(0px 1px 2px rgba(0, 0, 0, 0.3));\n",
              "      fill: #FFFFFF;\n",
              "    }\n",
              "  </style>\n",
              "\n",
              "      <script>\n",
              "        const buttonEl =\n",
              "          document.querySelector('#df-0ed63d4d-0bfa-4ae5-bd9e-26a170bea3cf button.colab-df-convert');\n",
              "        buttonEl.style.display =\n",
              "          google.colab.kernel.accessAllowed ? 'block' : 'none';\n",
              "\n",
              "        async function convertToInteractive(key) {\n",
              "          const element = document.querySelector('#df-0ed63d4d-0bfa-4ae5-bd9e-26a170bea3cf');\n",
              "          const dataTable =\n",
              "            await google.colab.kernel.invokeFunction('convertToInteractive',\n",
              "                                                     [key], {});\n",
              "          if (!dataTable) return;\n",
              "\n",
              "          const docLinkHtml = 'Like what you see? Visit the ' +\n",
              "            '<a target=\"_blank\" href=https://colab.research.google.com/notebooks/data_table.ipynb>data table notebook</a>'\n",
              "            + ' to learn more about interactive tables.';\n",
              "          element.innerHTML = '';\n",
              "          dataTable['output_type'] = 'display_data';\n",
              "          await google.colab.output.renderOutput(dataTable, element);\n",
              "          const docLink = document.createElement('div');\n",
              "          docLink.innerHTML = docLinkHtml;\n",
              "          element.appendChild(docLink);\n",
              "        }\n",
              "      </script>\n",
              "    </div>\n",
              "  </div>\n",
              "  "
            ],
            "text/plain": [
              "  label                                               text\n",
              "0   ham  go jurong point crazi avail bugi n great world...\n",
              "1   ham                              ok lar joke wif u oni\n",
              "2  spam  free entri 2 wkli comp win fa cup final tkt 21...\n",
              "3   ham                u dun say earli hor u c alreadi say\n",
              "4   ham               nah think goe usf live around though"
            ]
          },
          "metadata": {},
          "execution_count": 6
        }
      ]
    },
    {
      "cell_type": "code",
      "source": [
        "#Chia X, y\n",
        "X = df.drop(columns=['label'])\n",
        "y = df.label\n",
        "print(X)\n",
        "print(y)"
      ],
      "metadata": {
        "colab": {
          "base_uri": "https://localhost:8080/"
        },
        "id": "S3YDzcefd1pQ",
        "outputId": "00e12ed9-3b56-447c-f17b-0fea81e7d8e8"
      },
      "execution_count": null,
      "outputs": [
        {
          "output_type": "stream",
          "name": "stdout",
          "text": [
            "                                                   text\n",
            "0     go jurong point crazi avail bugi n great world...\n",
            "1                                 ok lar joke wif u oni\n",
            "2     free entri 2 wkli comp win fa cup final tkt 21...\n",
            "3                   u dun say earli hor u c alreadi say\n",
            "4                  nah think goe usf live around though\n",
            "...                                                 ...\n",
            "5567  2nd time tri 2 contact u u 750 pound prize 2 c...\n",
            "5568                            ü b go esplanad fr home\n",
            "5569                                  piti mood suggest\n",
            "5570  guy bitch act like interest buy someth els nex...\n",
            "5571                                     rofl true name\n",
            "\n",
            "[5572 rows x 1 columns]\n",
            "0        ham\n",
            "1        ham\n",
            "2       spam\n",
            "3        ham\n",
            "4        ham\n",
            "        ... \n",
            "5567    spam\n",
            "5568     ham\n",
            "5569     ham\n",
            "5570     ham\n",
            "5571     ham\n",
            "Name: label, Length: 5572, dtype: object\n"
          ]
        }
      ]
    },
    {
      "cell_type": "code",
      "source": [
        "#Chia train, test\n",
        "from sklearn.model_selection import train_test_split\n",
        "\n",
        "X_train, X_test, y_train, y_test = train_test_split(X, y, test_size = 0.2, random_state = 42)"
      ],
      "metadata": {
        "id": "fLu8_1pgdsL2"
      },
      "execution_count": null,
      "outputs": []
    },
    {
      "cell_type": "markdown",
      "source": [
        "# **Không phân tán**"
      ],
      "metadata": {
        "id": "CJ6CdJyrKSyh"
      }
    },
    {
      "cell_type": "code",
      "source": [
        "#Naive Bayes train\n",
        "def NB_train(X_train, y_train):\n",
        "\n",
        "  #Thêm nhãn vào tập X_train\n",
        "  training_set = X_train.copy()\n",
        "  training_set['label'] = y_train\n",
        "\n",
        "  spam = training_set[training_set['label'] == 'spam']  #Lọc ra những dòng spam\n",
        "  P_spam = len(spam)/len(training_set)  #Tỉ lệ spam trong tập train\n",
        "  ham = training_set[training_set['label'] == 'ham']  #Lọc ra những dòng ham\n",
        "  P_ham = len(ham)/len(training_set)  #Tỉ lệ ham trong tập train\n",
        "\n",
        "  #Tạo ma trận\n",
        "  vectorizer = CountVectorizer()\n",
        "  vector_X_train = vectorizer.fit_transform(X_train['text'])\n",
        "  matrix_X_train = vector_X_train.toarray()\n",
        "  \n",
        "  #Danh sách các từ\n",
        "  vocab = vectorizer.get_feature_names_out()\n",
        "\n",
        "  #Danh sách từ spam trong train\n",
        "  spam_corpus = []\n",
        "  for msg in training_set[training_set['label'] == 'spam']['text'].tolist():\n",
        "    for word in msg.split():\n",
        "        spam_corpus.append(word)\n",
        "       \n",
        "  spam_corpus = set(spam_corpus)\n",
        " \n",
        "  #Danh sách từ ham trong train\n",
        "  ham_corpus = []\n",
        "  for msg in training_set[training_set['label'] == 'ham']['text'].tolist():\n",
        "    for word in msg.split():\n",
        "        ham_corpus.append(word)\n",
        "       \n",
        "  ham_corpus = set(ham_corpus)\n",
        "  \n",
        "  count_array_spam = [0]*len(vocab)\n",
        "  spam_appear = 0\n",
        "  count_array_ham = [0]*len(vocab)\n",
        "  ham_appear = 0\n",
        "\n",
        "  for row in matrix_X_train:\n",
        "    for index in range(len(row)):\n",
        "      if row[index] != 0:\n",
        "        word = vocab[index]\n",
        "        if word in spam_corpus:\n",
        "          count_array_spam[index] = count_array_spam[index] + row[index]\n",
        "          spam_appear = spam_appear + row[index]\n",
        "        if word in ham_corpus:\n",
        "          count_array_ham[index] = count_array_ham[index] + row[index]\n",
        "          ham_appear = ham_appear + row[index]\n",
        "  \n",
        "  prob_array_spam = [0]*len(vocab)\n",
        "  for i in range(len(vocab)):\n",
        "    prob_array_spam[i] = (count_array_spam[i] + 1)/(1*len(vocab)+spam_appear)\n",
        "\n",
        "  prob_array_ham = [0]*len(vocab)\n",
        "  for i in range(len(vocab)):\n",
        "    prob_array_ham[i] = (count_array_ham[i] + 1)/(1*len(vocab)+ham_appear)\n",
        "\n",
        "  return [vocab, P_spam, P_ham, prob_array_spam, prob_array_ham]"
      ],
      "metadata": {
        "id": "FM0tgVdJmGSr"
      },
      "execution_count": null,
      "outputs": []
    },
    {
      "cell_type": "code",
      "source": [
        "#Naive Bayes test\n",
        "def NB_test(model, X_test):\n",
        "\n",
        "  vocab, P_spam, P_ham, prob_array_spam, prob_array_ham = model\n",
        "\n",
        "  text_test = []\n",
        "  for msg in X_test:\n",
        "    for word in msg.split():\n",
        "      text_test.append(word)\n",
        "\n",
        "  count_array_test = [0]*len(vocab)\n",
        "\n",
        "  for index in range(len(vocab)):\n",
        "    if vocab[index] in text_test:\n",
        "      count_array_test[index] = int(text_test.count(vocab[index]))\n",
        "\n",
        "  result_spam = P_spam\n",
        "  for index, value in zip(count_array_test, prob_array_spam):\n",
        "    if index != 0:\n",
        "      result_spam = result_spam * pow(value, index)\n",
        "\n",
        "  result_ham = P_ham\n",
        "  for index, value in zip(count_array_test, prob_array_ham):\n",
        "    if index != 0:\n",
        "      result_ham = result_ham * pow(value, index)\n",
        "\n",
        "  if result_spam > result_ham:\n",
        "    return 'spam'\n",
        "  else:\n",
        "    return 'ham'"
      ],
      "metadata": {
        "id": "6L_c0hkUZlTJ"
      },
      "execution_count": null,
      "outputs": []
    },
    {
      "cell_type": "code",
      "source": [
        "def MNB(X_train, y_train, X_test):\n",
        "\n",
        "  model = NB_train(X_train, y_train)\n",
        "\n",
        "  results = list()\n",
        "  \n",
        "  for i in range(len(X_test)):\n",
        "    results.append(NB_test(model, X_test.iloc[i]))\n",
        "\n",
        "  return results"
      ],
      "metadata": {
        "id": "LPKUWlYOZxZL"
      },
      "execution_count": null,
      "outputs": []
    },
    {
      "cell_type": "code",
      "source": [
        "start = time.time()\n",
        "\n",
        "y_pred = MNB(X_train, y_train, X_test)\n",
        "\n",
        "stop = time.time()\n",
        "\n",
        "print('Time: ', stop - start)"
      ],
      "metadata": {
        "colab": {
          "base_uri": "https://localhost:8080/"
        },
        "id": "Z6wZIDWIae8z",
        "outputId": "8df447b7-a677-4b62-e242-d1c896ec703d"
      },
      "execution_count": null,
      "outputs": [
        {
          "output_type": "stream",
          "name": "stdout",
          "text": [
            "Time:  14.153392791748047\n"
          ]
        }
      ]
    },
    {
      "cell_type": "code",
      "source": [
        "accuracy_score(y_pred, y_test)"
      ],
      "metadata": {
        "colab": {
          "base_uri": "https://localhost:8080/"
        },
        "id": "WgKvehuufFNl",
        "outputId": "2afd042f-4fac-45d6-b70d-fe2424d31600"
      },
      "execution_count": null,
      "outputs": [
        {
          "output_type": "execute_result",
          "data": {
            "text/plain": [
              "0.97847533632287"
            ]
          },
          "metadata": {},
          "execution_count": 13
        }
      ]
    },
    {
      "cell_type": "markdown",
      "source": [
        "# **Phân tán**"
      ],
      "metadata": {
        "id": "4WC_R32sKqHK"
      }
    },
    {
      "cell_type": "code",
      "source": [
        "#Cài đặt pyspark\n",
        "!pip install pyspark"
      ],
      "metadata": {
        "colab": {
          "base_uri": "https://localhost:8080/"
        },
        "id": "_i1VOQkuKsXx",
        "outputId": "6810296a-30f0-424e-b036-64b19efc7511"
      },
      "execution_count": null,
      "outputs": [
        {
          "output_type": "stream",
          "name": "stdout",
          "text": [
            "Collecting pyspark\n",
            "  Downloading pyspark-3.2.0.tar.gz (281.3 MB)\n",
            "\u001b[K     |████████████████████████████████| 281.3 MB 32 kB/s \n",
            "\u001b[?25hCollecting py4j==0.10.9.2\n",
            "  Downloading py4j-0.10.9.2-py2.py3-none-any.whl (198 kB)\n",
            "\u001b[K     |████████████████████████████████| 198 kB 46.0 MB/s \n",
            "\u001b[?25hBuilding wheels for collected packages: pyspark\n",
            "  Building wheel for pyspark (setup.py) ... \u001b[?25l\u001b[?25hdone\n",
            "  Created wheel for pyspark: filename=pyspark-3.2.0-py2.py3-none-any.whl size=281805911 sha256=f6b82cc0a030f8c2e218a375fec2765e8d1e4e3f1f52ac8bb6361f591aaeac6e\n",
            "  Stored in directory: /root/.cache/pip/wheels/0b/de/d2/9be5d59d7331c6c2a7c1b6d1a4f463ce107332b1ecd4e80718\n",
            "Successfully built pyspark\n",
            "Installing collected packages: py4j, pyspark\n",
            "Successfully installed py4j-0.10.9.2 pyspark-3.2.0\n"
          ]
        }
      ]
    },
    {
      "cell_type": "code",
      "source": [
        "#Khởi tạo\n",
        "from pyspark import SparkContext, SparkConf\n",
        "from pyspark.sql import SparkSession\n",
        "\n",
        "sc = SparkSession.builder.master(\"local[*]\").getOrCreate().sparkContext"
      ],
      "metadata": {
        "id": "NfZA3lS9LRvy"
      },
      "execution_count": null,
      "outputs": []
    },
    {
      "cell_type": "code",
      "source": [
        "#Hàm cộng 2 mảng\n",
        "def f(x, y):\n",
        "  return [a + b for a, b in zip(x, y)]\n",
        "\n",
        "#Tương tự hàm NB nhưng xử lý ma trận bằng rdd\n",
        "def NB_train_2(X_train, y_train):\n",
        "\n",
        "  training_set = X_train.copy()\n",
        "  training_set['label'] = y_train\n",
        "\n",
        "  spam = training_set[training_set['label'] == 'spam']\n",
        "  P_spam = len(spam)/len(training_set)\n",
        "  ham = training_set[training_set['label'] == 'ham']\n",
        "  P_ham = len(ham)/len(training_set)\n",
        "\n",
        "  vectorizer = CountVectorizer()\n",
        "  vector_X_train = vectorizer.fit_transform(X_train['text'])\n",
        "  matrix_X_train = vector_X_train.toarray()\n",
        "\n",
        "  #Gán label lên phần tử đầu các dòng ma trận\n",
        "  matrix_label = np.append(np.swapaxes([y_train.values], 0, 1), matrix_X_train, axis = 1)\n",
        "\n",
        "  #Tạo rdd\n",
        "  rdd = sc.parallelize(matrix_label)\n",
        "  #Chia phần tử thành key - value\n",
        "  rdd1 = rdd.map(lambda x: (x[0], x[1::]))\n",
        "  #Sử dụng reduceBykey\n",
        "  count_array_1, count_array_2 = rdd1.reduceByKey(lambda x, y: f(x, y)).collect()\n",
        "\n",
        "  #Tìm danh sách spam và ham\n",
        "  if count_array_1[0] == 'ham':\n",
        "    count_array_ham = count_array_1[1]\n",
        "    count_array_spam = count_array_2[1]\n",
        "  else:\n",
        "    count_array_ham = count_array_2[1]\n",
        "    count_array_spam = count_array_1[1]\n",
        "  \n",
        "  #Danh sách các từ\n",
        "  vocab = vectorizer.get_feature_names_out()\n",
        "\n",
        "  spam_appear = sum(count_array_spam)\n",
        "  ham_appear = sum(count_array_ham)\n",
        "\n",
        "  prob_array_spam = [0]*len(vocab)\n",
        "  for i in range(len(vocab)):\n",
        "    prob_array_spam[i] = (count_array_spam[i] + 1)/(1*len(vocab)+spam_appear)\n",
        "\n",
        "  prob_array_ham = [0]*len(vocab)\n",
        "  for i in range(len(vocab)):\n",
        "    prob_array_ham[i] = (count_array_ham[i] + 1)/(1*len(vocab)+ham_appear)\n",
        "\n",
        "  return [vocab, P_spam, P_ham, prob_array_spam, prob_array_ham]"
      ],
      "metadata": {
        "id": "M_XZEy0fSNY8"
      },
      "execution_count": null,
      "outputs": []
    },
    {
      "cell_type": "code",
      "source": [
        "# def MNB_2(X_train, y_train, X_test):\n",
        "\n",
        "#   model = NB_train_2(X_train, y_train)\n",
        "\n",
        "#   results = sc.parallelize(X_test['text'])\n",
        "#   results = results.map(lambda x: [x])\n",
        "#   results = results.map(lambda x: NB_test(model, x))\n",
        "\n",
        "#   return results.collect()\n",
        "\n",
        "# ----- Không nhanh hơn là bao --------"
      ],
      "metadata": {
        "id": "L17BguPffcYZ"
      },
      "execution_count": null,
      "outputs": []
    },
    {
      "cell_type": "code",
      "source": [
        "def MNB_2(X_train, y_train, X_test):\n",
        "\n",
        "  model = NB_train_2(X_train, y_train)\n",
        "\n",
        "  results = list()\n",
        "  #reduce\n",
        "  for i in range(len(X_test)):\n",
        "    results.append(NB_test(model, X_test.iloc[i]))\n",
        "\n",
        "  return results"
      ],
      "metadata": {
        "id": "vlOwmeo7eq-2"
      },
      "execution_count": null,
      "outputs": []
    },
    {
      "cell_type": "code",
      "source": [
        "start = time.time()\n",
        "\n",
        "y_pred = MNB_2(X_train, y_train, X_test)\n",
        "\n",
        "stop = time.time()\n",
        "\n",
        "print('Time: ', stop - start)"
      ],
      "metadata": {
        "colab": {
          "base_uri": "https://localhost:8080/"
        },
        "id": "En0_rm-aSfmI",
        "outputId": "cee42c35-daf5-4f41-8d6f-136373071875"
      },
      "execution_count": null,
      "outputs": [
        {
          "output_type": "stream",
          "name": "stdout",
          "text": [
            "Time:  8.591895818710327\n"
          ]
        }
      ]
    },
    {
      "cell_type": "code",
      "source": [
        "accuracy_score(y_pred, y_test)"
      ],
      "metadata": {
        "colab": {
          "base_uri": "https://localhost:8080/"
        },
        "id": "zz-mUL-8SkM3",
        "outputId": "27bec6e6-c242-49c8-8521-855c94c8838d"
      },
      "execution_count": null,
      "outputs": [
        {
          "output_type": "execute_result",
          "data": {
            "text/plain": [
              "0.9883408071748879"
            ]
          },
          "metadata": {},
          "execution_count": 21
        }
      ]
    }
  ]
}